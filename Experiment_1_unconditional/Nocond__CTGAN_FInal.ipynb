{
  "cells": [
    {
      "cell_type": "code",
      "execution_count": null,
      "metadata": {
        "id": "q4t0avdQCPZL"
      },
      "outputs": [],
      "source": [
        "!pip install git+https://github.com/anonymous-785/synthcity.git"
      ]
    },
    {
      "cell_type": "code",
      "execution_count": null,
      "metadata": {
        "id": "CEODMo6FCSqm"
      },
      "outputs": [],
      "source": [
        "!pip uninstall -y torchaudio torchdata\n",
        "!pip install pycox\n",
        "from pycox import datasets\n",
        "from synthcity.metrics import Metrics\n",
        "from synthcity.plugins.core.dataloader import SurvivalAnalysisDataLoader\n",
        "import numpy as np\n",
        "import pandas as pd\n",
        "import os\n",
        "import shutil\n",
        "from timeit import default_timer as timer\n",
        "from synthcity.plugins import Plugins"
      ]
    },
    {
      "cell_type": "code",
      "execution_count": null,
      "metadata": {
        "id": "EHCownpHdrh1"
      },
      "outputs": [],
      "source": [
        "plugin_name=\"ctgan\""
      ]
    },
    {
      "cell_type": "markdown",
      "metadata": {
        "id": "g66l69NIdwo0"
      },
      "source": [
        "# Functions"
      ]
    },
    {
      "cell_type": "code",
      "execution_count": null,
      "metadata": {
        "id": "iw4DqUnXCjNr"
      },
      "outputs": [],
      "source": [
        "from scipy.stats import mannwhitneyu, chi2_contingency,wilcoxon\n",
        "import matplotlib.pyplot as plt\n",
        "\n",
        "def identify_variable_types(df):\n",
        "    continuous_columns = []\n",
        "    discrete_columns = []\n",
        "\n",
        "    for col in df.columns:\n",
        "        unique_vals = df[col].unique()\n",
        "        num_unique = len(unique_vals)\n",
        "        if num_unique > 20:  # Threshold for considering a column as continuous\n",
        "            continuous_columns.append(col)\n",
        "        else:\n",
        "            discrete_columns.append(col)\n",
        "\n",
        "    return continuous_columns, discrete_columns\n",
        "\n",
        "def compare_distributions(real_df, synthetic_df, alpha=0.05):\n",
        "    real_df = real_df.drop(['duration', 'event'], axis=1)\n",
        "    real_continuous, real_discrete = identify_variable_types(real_df)\n",
        "    p_values_continuous = {}\n",
        "    p_values_discrete = {}\n",
        "\n",
        "    synthetic_df = synthetic_df.drop(['duration', 'event'], axis=1)\n",
        "    synthetic_continuous, synthetic_discrete = identify_variable_types(synthetic_df)\n",
        "\n",
        "    synthetic_continuous = [col for col in synthetic_continuous if col not in [\"event\", \"duration\"]]\n",
        "    synthetic_discrete = [col for col in synthetic_discrete if col not in [\"event\", \"duration\"]]\n",
        "\n",
        "    # Wilcoxon rank-sum test for continuous variables\n",
        "    for col in real_continuous:\n",
        "        if col in synthetic_continuous:\n",
        "            _, p_value = mannwhitneyu(real_df[col], synthetic_df[col])\n",
        "            p_values_continuous[col] = p_value\n",
        "\n",
        "    # Chi-square test for discrete variables\n",
        "    for col in real_discrete:\n",
        "        if col in synthetic_discrete:\n",
        "            contingency_table = pd.crosstab(real_df[col], synthetic_df[col])\n",
        "            _, p, _, _ = chi2_contingency(contingency_table)\n",
        "            p_values_discrete[col] = p\n",
        "\n",
        "    # Plot p-values\n",
        "    # plt.figure(figsize=(10, 6))\n",
        "\n",
        "    # continuous_p_values = {col: p_values_continuous[col] for col in real_continuous}\n",
        "    # discrete_p_values = {col: p_values_discrete[col] for col in real_discrete}\n",
        "\n",
        "    # plt.plot(list(continuous_p_values.keys()), list(continuous_p_values.values()), label='Continuous', marker='o')\n",
        "    # plt.plot(list(discrete_p_values.keys()), list(discrete_p_values.values()), label='Discrete', marker='o', linestyle='dashed')\n",
        "\n",
        "    # # Plot alpha line\n",
        "    # plt.axhline(y=alpha, color='red', linestyle='--', label=f'alpha = {alpha}')\n",
        "\n",
        "    # plt.xlabel('Column Name')\n",
        "    # plt.ylabel('p-value')\n",
        "    # plt.title('Comparison of p-values for Real and Synthetic Data')\n",
        "    # plt.xticks(rotation=45)\n",
        "    # plt.legend()\n",
        "    # plt.grid(True)\n",
        "    # plt.tight_layout()\n",
        "    # plt.show()\n",
        "\n",
        "    return p_values_continuous, p_values_discrete\n",
        "\n"
      ]
    },
    {
      "cell_type": "markdown",
      "source": [
        "# FLCHAIN"
      ],
      "metadata": {
        "id": "eDoB0n1OFsN_"
      }
    },
    {
      "cell_type": "code",
      "source": [
        "dataset=\"flchain\"\n",
        "\n",
        "metrics_list = []\n",
        "fit_times = []\n",
        "generate_times = []\n",
        "p_values_list = []\n",
        "\n",
        "for i in range(5):\n",
        "    df = pd.read_csv('/content/drive/MyDrive/Datasets/flchain_final.csv')\n",
        "    df = df.drop('Unnamed: 0', axis=1)\n",
        "    df = df[df['duration'] != 0]\n",
        "\n",
        "    syn_model = Plugins().get(plugin_name)\n",
        "    X=df\n",
        "    # Measure the execution time of the fit function\n",
        "    start = timer()\n",
        "    syn_model.fit(X)\n",
        "    fit_time = timer() - start\n",
        "    fit_times.append(fit_time)\n",
        "\n",
        "    random_state = i + 1\n",
        "    np.random.seed(random_state)\n",
        "\n",
        "    # Measure the execution time of the generate function\n",
        "    start = timer()\n",
        "    X_gen = syn_model.generate(count=len(df)).dataframe()\n",
        "    generate_time = timer() - start\n",
        "    generate_times.append(generate_time)\n",
        "\n",
        "    # Save X_gen as a CSV file\n",
        "    X_gen.to_csv(f\"/content/drive/MyDrive/Nips/{dataset}_{plugin_name}_nocond_iteration_{i+1}.csv\", index=False)\n",
        "\n",
        "    loader1 = SurvivalAnalysisDataLoader(df, target_column=\"event\", time_to_event_column=\"duration\")\n",
        "    loader2 = SurvivalAnalysisDataLoader(X_gen, target_column=\"event\", time_to_event_column=\"duration\")\n",
        "\n",
        "    met_df = Metrics.evaluate(X_gt=loader1, X_syn=loader2, task_type='survival_analysis', metrics={\n",
        "        'stats': ['jensenshannon_dist', 'chi_squared_test', 'feature_corr', 'inv_kl_divergence', 'ks_test',\n",
        "                 'max_mean_discrepancy', 'wasserstein_dist', 'prdc', 'alpha_precision', 'survival_km_distance'],\n",
        "        'performance': ['linear_model', 'mlp', 'xgb', 'feat_rank_distance']\n",
        "    }, use_cache=False, random_state=random_state)\n",
        "\n",
        "    met_df = met_df.iloc[:, 0]\n",
        "    metrics_list.append(met_df)\n",
        "\n",
        "    # Calculate p-values\n",
        "    p_values_continuous, p_values_discrete = compare_distributions(df, X_gen)\n",
        "    continuous_column_names = list(p_values_continuous.keys())\n",
        "    discrete_column_names = list(p_values_discrete.keys())\n",
        "\n",
        "    p_val = np.concatenate([list(p_values_continuous.values()), list(p_values_discrete.values())])\n",
        "    p_values_list.append(p_val)\n",
        "\n",
        "    workspace_dir = os.path.join(os.getcwd(), 'workspace')\n",
        "    if os.path.exists(workspace_dir):\n",
        "        shutil.rmtree(workspace_dir)\n",
        "\n",
        "result_df = pd.concat(metrics_list, axis=1)\n",
        "\n",
        "# Calculate the row-wise mean and standard deviation of the metrics\n",
        "result_df['Mean'] = result_df.mean(axis=1)\n",
        "result_df['Std'] = result_df.std(axis=1)\n",
        "result_df['Std'] = result_df['Std'].round(4)\n",
        "\n",
        "# Create DataFrame for p-values\n",
        "p_values_df = pd.DataFrame(p_values_list, columns=continuous_column_names + discrete_column_names)\n",
        "\n",
        "# Save result_df and p_values_df as CSV files\n",
        "result_df.to_csv(f\"/content/drive/MyDrive/Nips/{dataset}_{plugin_name}_nocond_result_df.csv\")\n",
        "p_values_df.to_csv(f\"/content/drive/MyDrive/Nips/{dataset}_{plugin_name}_nocond_p_values_df.csv\")\n",
        "\n",
        "avg_fit_time = np.mean(fit_times)\n",
        "avg_generate_time = np.mean(generate_times)\n",
        "std_fit_time = np.std(fit_times)\n",
        "std_generate_time = np.std(generate_times)\n",
        "\n",
        "print(f\"\\nAverage Fit Time: {avg_fit_time:.4f} seconds, Standard Deviation: {std_fit_time:.4f} seconds\")\n",
        "print(f\"Average Generate Time: {avg_generate_time:.4f} seconds, Standard Deviation: {std_generate_time:.4f} seconds\")\n"
      ],
      "metadata": {
        "id": "Zol7xbGnFt6-"
      },
      "execution_count": null,
      "outputs": []
    },
    {
      "cell_type": "code",
      "source": [
        "result_df"
      ],
      "metadata": {
        "id": "EshUmLWSHOLH"
      },
      "execution_count": null,
      "outputs": []
    },
    {
      "cell_type": "code",
      "source": [
        "p_values_df"
      ],
      "metadata": {
        "id": "mgE6MtPDHOGU"
      },
      "execution_count": null,
      "outputs": []
    },
    {
      "cell_type": "markdown",
      "metadata": {
        "id": "tVnRTBHHCt0d"
      },
      "source": [
        "# AIDS"
      ]
    },
    {
      "cell_type": "code",
      "execution_count": null,
      "metadata": {
        "id": "XLWVp7FlVHdD"
      },
      "outputs": [],
      "source": [
        "dataset=\"aids\"\n",
        "\n",
        "metrics_list = []\n",
        "fit_times = []\n",
        "generate_times = []\n",
        "p_values_list = []\n",
        "\n",
        "for i in range(5):\n",
        "    df = pd.read_csv('/content/drive/MyDrive/Datasets/aids.csv')\n",
        "    df = df.drop('Unnamed: 0', axis=1)\n",
        "    df = df[df['duration'] != 0]\n",
        "\n",
        "    syn_model = Plugins().get(plugin_name)\n",
        "    X=df\n",
        "    # Measure the execution time of the fit function\n",
        "    start = timer()\n",
        "    syn_model.fit(X)\n",
        "    fit_time = timer() - start\n",
        "    fit_times.append(fit_time)\n",
        "\n",
        "    random_state = i + 1\n",
        "    np.random.seed(random_state)\n",
        "\n",
        "    # Measure the execution time of the generate function\n",
        "    start = timer()\n",
        "    X_gen = syn_model.generate(count=len(df)).dataframe()\n",
        "    generate_time = timer() - start\n",
        "    generate_times.append(generate_time)\n",
        "\n",
        "    # Save X_gen as a CSV file\n",
        "    X_gen.to_csv(f\"/content/drive/MyDrive/Nips/{dataset}_{plugin_name}_nocond_iteration_{i+1}.csv\", index=False)\n",
        "\n",
        "    loader1 = SurvivalAnalysisDataLoader(df, target_column=\"event\", time_to_event_column=\"duration\")\n",
        "    loader2 = SurvivalAnalysisDataLoader(X_gen, target_column=\"event\", time_to_event_column=\"duration\")\n",
        "\n",
        "    met_df = Metrics.evaluate(X_gt=loader1, X_syn=loader2, task_type='survival_analysis', metrics={\n",
        "        'stats': ['jensenshannon_dist', 'chi_squared_test', 'feature_corr', 'inv_kl_divergence', 'ks_test',\n",
        "                 'max_mean_discrepancy', 'wasserstein_dist', 'prdc', 'alpha_precision', 'survival_km_distance'],\n",
        "        'performance': ['linear_model', 'mlp', 'xgb', 'feat_rank_distance']\n",
        "    }, use_cache=False, random_state=random_state)\n",
        "\n",
        "    met_df = met_df.iloc[:, 0]\n",
        "    metrics_list.append(met_df)\n",
        "\n",
        "    # Calculate p-values\n",
        "    p_values_continuous, p_values_discrete = compare_distributions(df, X_gen)\n",
        "    continuous_column_names = list(p_values_continuous.keys())\n",
        "    discrete_column_names = list(p_values_discrete.keys())\n",
        "\n",
        "    p_val = np.concatenate([list(p_values_continuous.values()), list(p_values_discrete.values())])\n",
        "    p_values_list.append(p_val)\n",
        "\n",
        "    workspace_dir = os.path.join(os.getcwd(), 'workspace')\n",
        "    if os.path.exists(workspace_dir):\n",
        "        shutil.rmtree(workspace_dir)\n",
        "\n",
        "result_df = pd.concat(metrics_list, axis=1)\n",
        "\n",
        "# Calculate the row-wise mean and standard deviation of the metrics\n",
        "result_df['Mean'] = result_df.mean(axis=1)\n",
        "result_df['Std'] = result_df.std(axis=1)\n",
        "result_df['Std'] = result_df['Std'].round(4)\n",
        "\n",
        "# Create DataFrame for p-values\n",
        "p_values_df = pd.DataFrame(p_values_list, columns=continuous_column_names + discrete_column_names)\n",
        "\n",
        "# Save result_df and p_values_df as CSV files\n",
        "result_df.to_csv(f\"/content/drive/MyDrive/Nips/{dataset}_{plugin_name}_nocond_result_df.csv\")\n",
        "p_values_df.to_csv(f\"/content/drive/MyDrive/Nips/{dataset}_{plugin_name}_nocond_p_values_df.csv\")\n",
        "\n",
        "avg_fit_time = np.mean(fit_times)\n",
        "avg_generate_time = np.mean(generate_times)\n",
        "std_fit_time = np.std(fit_times)\n",
        "std_generate_time = np.std(generate_times)\n",
        "\n",
        "print(f\"\\nAverage Fit Time: {avg_fit_time:.4f} seconds, Standard Deviation: {std_fit_time:.4f} seconds\")\n",
        "print(f\"Average Generate Time: {avg_generate_time:.4f} seconds, Standard Deviation: {std_generate_time:.4f} seconds\")\n"
      ]
    },
    {
      "cell_type": "code",
      "execution_count": null,
      "metadata": {
        "id": "dHBJijmUYIew"
      },
      "outputs": [],
      "source": [
        "result_df"
      ]
    },
    {
      "cell_type": "code",
      "execution_count": null,
      "metadata": {
        "id": "euNS1tINYKCm"
      },
      "outputs": [],
      "source": [
        "p_values_df"
      ]
    },
    {
      "cell_type": "markdown",
      "metadata": {
        "id": "2jJPOKXocEu6"
      },
      "source": [
        "# Metabric"
      ]
    },
    {
      "cell_type": "code",
      "execution_count": null,
      "metadata": {
        "id": "40akL9o-2xuG"
      },
      "outputs": [],
      "source": [
        "dataset=\"metabric\"\n",
        "\n",
        "metrics_list = []\n",
        "fit_times = []\n",
        "generate_times = []\n",
        "p_values_list = []\n",
        "\n",
        "for i in range(5):\n",
        "    df = datasets.metabric.read_df()\n",
        "    df = df[df['duration'] != 0]\n",
        "\n",
        "    syn_model = Plugins().get(plugin_name)\n",
        "    X=df\n",
        "    # Measure the execution time of the fit function\n",
        "    start = timer()\n",
        "    syn_model.fit(X)\n",
        "    fit_time = timer() - start\n",
        "    fit_times.append(fit_time)\n",
        "\n",
        "    random_state = i + 1\n",
        "    np.random.seed(random_state)\n",
        "\n",
        "    # Measure the execution time of the generate function\n",
        "    start = timer()\n",
        "    X_gen = syn_model.generate(count=len(df)).dataframe()\n",
        "    generate_time = timer() - start\n",
        "    generate_times.append(generate_time)\n",
        "\n",
        "    # Save X_gen as a CSV file\n",
        "    X_gen.to_csv(f\"/content/drive/MyDrive/Nips/{dataset}_{plugin_name}_nocond_iteration_{i+1}.csv\", index=False)\n",
        "\n",
        "    loader1 = SurvivalAnalysisDataLoader(df, target_column=\"event\", time_to_event_column=\"duration\")\n",
        "    loader2 = SurvivalAnalysisDataLoader(X_gen, target_column=\"event\", time_to_event_column=\"duration\")\n",
        "\n",
        "    met_df = Metrics.evaluate(X_gt=loader1, X_syn=loader2, task_type='survival_analysis', metrics={\n",
        "        'stats': ['jensenshannon_dist', 'chi_squared_test', 'feature_corr', 'inv_kl_divergence', 'ks_test',\n",
        "                 'max_mean_discrepancy', 'wasserstein_dist', 'prdc', 'alpha_precision', 'survival_km_distance'],\n",
        "        'performance': ['linear_model', 'mlp', 'xgb', 'feat_rank_distance']\n",
        "    }, use_cache=False, random_state=random_state)\n",
        "\n",
        "    met_df = met_df.iloc[:, 0]\n",
        "    metrics_list.append(met_df)\n",
        "\n",
        "    # Calculate p-values\n",
        "    p_values_continuous, p_values_discrete = compare_distributions(df, X_gen)\n",
        "    continuous_column_names = list(p_values_continuous.keys())\n",
        "    discrete_column_names = list(p_values_discrete.keys())\n",
        "\n",
        "    p_val = np.concatenate([list(p_values_continuous.values()), list(p_values_discrete.values())])\n",
        "    p_values_list.append(p_val)\n",
        "\n",
        "    workspace_dir = os.path.join(os.getcwd(), 'workspace')\n",
        "    if os.path.exists(workspace_dir):\n",
        "        shutil.rmtree(workspace_dir)\n",
        "\n",
        "result_df = pd.concat(metrics_list, axis=1)\n",
        "\n",
        "# Calculate the row-wise mean and standard deviation of the metrics\n",
        "result_df['Mean'] = result_df.mean(axis=1)\n",
        "result_df['Std'] = result_df.std(axis=1)\n",
        "result_df['Std'] = result_df['Std'].round(4)\n",
        "\n",
        "# Create DataFrame for p-values\n",
        "p_values_df = pd.DataFrame(p_values_list, columns=continuous_column_names + discrete_column_names)\n",
        "\n",
        "# Save result_df and p_values_df as CSV files\n",
        "result_df.to_csv(f\"/content/drive/MyDrive/Nips/{dataset}_{plugin_name}_nocond_result_df.csv\")\n",
        "p_values_df.to_csv(f\"/content/drive/MyDrive/Nips/{dataset}_{plugin_name}_nocond_p_values_df.csv\")\n",
        "\n",
        "avg_fit_time = np.mean(fit_times)\n",
        "avg_generate_time = np.mean(generate_times)\n",
        "std_fit_time = np.std(fit_times)\n",
        "std_generate_time = np.std(generate_times)\n",
        "\n",
        "print(f\"\\nAverage Fit Time: {avg_fit_time:.4f} seconds, Standard Deviation: {std_fit_time:.4f} seconds\")\n",
        "print(f\"Average Generate Time: {avg_generate_time:.4f} seconds, Standard Deviation: {std_generate_time:.4f} seconds\")\n"
      ]
    },
    {
      "cell_type": "code",
      "execution_count": null,
      "metadata": {
        "id": "MCmPsJdX2xng"
      },
      "outputs": [],
      "source": [
        "result_df"
      ]
    },
    {
      "cell_type": "code",
      "execution_count": null,
      "metadata": {
        "id": "kWZ9aI4i2xf1"
      },
      "outputs": [],
      "source": [
        "p_values_df"
      ]
    },
    {
      "cell_type": "markdown",
      "metadata": {
        "id": "_Q90MorO3YqW"
      },
      "source": [
        "# GBSG"
      ]
    },
    {
      "cell_type": "code",
      "execution_count": null,
      "metadata": {
        "id": "J_vUdi722-V3"
      },
      "outputs": [],
      "source": [
        "dataset=\"gbsg\"\n",
        "\n",
        "metrics_list = []\n",
        "fit_times = []\n",
        "generate_times = []\n",
        "p_values_list = []\n",
        "\n",
        "for i in range(5):\n",
        "    df = datasets.gbsg.read_df()\n",
        "    df = df[df['duration'] != 0]\n",
        "\n",
        "    syn_model = Plugins().get(plugin_name)\n",
        "    X=df\n",
        "    # Measure the execution time of the fit function\n",
        "    start = timer()\n",
        "    syn_model.fit(X)\n",
        "    fit_time = timer() - start\n",
        "    fit_times.append(fit_time)\n",
        "\n",
        "    random_state = i + 1\n",
        "    np.random.seed(random_state)\n",
        "\n",
        "    # Measure the execution time of the generate function\n",
        "    start = timer()\n",
        "    X_gen = syn_model.generate(count=len(df)).dataframe()\n",
        "    generate_time = timer() - start\n",
        "    generate_times.append(generate_time)\n",
        "\n",
        "    # Save X_gen as a CSV file\n",
        "    X_gen.to_csv(f\"/content/drive/MyDrive/Nips/{dataset}_{plugin_name}_nocond_iteration_{i+1}.csv\", index=False)\n",
        "\n",
        "    loader1 = SurvivalAnalysisDataLoader(df, target_column=\"event\", time_to_event_column=\"duration\")\n",
        "    loader2 = SurvivalAnalysisDataLoader(X_gen, target_column=\"event\", time_to_event_column=\"duration\")\n",
        "\n",
        "    met_df = Metrics.evaluate(X_gt=loader1, X_syn=loader2, task_type='survival_analysis', metrics={\n",
        "        'stats': ['jensenshannon_dist', 'chi_squared_test', 'feature_corr', 'inv_kl_divergence', 'ks_test',\n",
        "                 'max_mean_discrepancy', 'wasserstein_dist', 'prdc', 'alpha_precision', 'survival_km_distance'],\n",
        "        'performance': ['linear_model', 'mlp', 'xgb', 'feat_rank_distance']\n",
        "    }, use_cache=False, random_state=random_state)\n",
        "\n",
        "    met_df = met_df.iloc[:, 0]\n",
        "    metrics_list.append(met_df)\n",
        "\n",
        "    # Calculate p-values\n",
        "    p_values_continuous, p_values_discrete = compare_distributions(df, X_gen)\n",
        "    continuous_column_names = list(p_values_continuous.keys())\n",
        "    discrete_column_names = list(p_values_discrete.keys())\n",
        "\n",
        "    p_val = np.concatenate([list(p_values_continuous.values()), list(p_values_discrete.values())])\n",
        "    p_values_list.append(p_val)\n",
        "\n",
        "    workspace_dir = os.path.join(os.getcwd(), 'workspace')\n",
        "    if os.path.exists(workspace_dir):\n",
        "        shutil.rmtree(workspace_dir)\n",
        "\n",
        "result_df = pd.concat(metrics_list, axis=1)\n",
        "\n",
        "# Calculate the row-wise mean and standard deviation of the metrics\n",
        "result_df['Mean'] = result_df.mean(axis=1)\n",
        "result_df['Std'] = result_df.std(axis=1)\n",
        "result_df['Std'] = result_df['Std'].round(4)\n",
        "\n",
        "# Create DataFrame for p-values\n",
        "p_values_df = pd.DataFrame(p_values_list, columns=continuous_column_names + discrete_column_names)\n",
        "\n",
        "# Save result_df and p_values_df as CSV files\n",
        "result_df.to_csv(f\"/content/drive/MyDrive/Nips/{dataset}_{plugin_name}_nocond_result_df.csv\")\n",
        "p_values_df.to_csv(f\"/content/drive/MyDrive/Nips/{dataset}_{plugin_name}_nocond_p_values_df.csv\")\n",
        "\n",
        "avg_fit_time = np.mean(fit_times)\n",
        "avg_generate_time = np.mean(generate_times)\n",
        "std_fit_time = np.std(fit_times)\n",
        "std_generate_time = np.std(generate_times)\n",
        "\n",
        "print(f\"\\nAverage Fit Time: {avg_fit_time:.4f} seconds, Standard Deviation: {std_fit_time:.4f} seconds\")\n",
        "print(f\"Average Generate Time: {avg_generate_time:.4f} seconds, Standard Deviation: {std_generate_time:.4f} seconds\")\n"
      ]
    },
    {
      "cell_type": "code",
      "execution_count": null,
      "metadata": {
        "id": "CmUmr6x-294_"
      },
      "outputs": [],
      "source": [
        "result_df"
      ]
    },
    {
      "cell_type": "code",
      "execution_count": null,
      "metadata": {
        "id": "aYZaCxoW3gN4"
      },
      "outputs": [],
      "source": [
        "p_values_df"
      ]
    },
    {
      "cell_type": "markdown",
      "metadata": {
        "id": "Rf0dJwdN3iHi"
      },
      "source": [
        "# SUPPORT"
      ]
    },
    {
      "cell_type": "code",
      "execution_count": null,
      "metadata": {
        "id": "pzp6chZi3lbt"
      },
      "outputs": [],
      "source": [
        "dataset=\"support\"\n",
        "\n",
        "metrics_list = []\n",
        "fit_times = []\n",
        "generate_times = []\n",
        "p_values_list = []\n",
        "\n",
        "for i in range(5):\n",
        "    df = datasets.support.read_df()\n",
        "    df = df[df['duration'] != 0]\n",
        "\n",
        "    syn_model = Plugins().get(plugin_name)\n",
        "    X=df\n",
        "    # Measure the execution time of the fit function\n",
        "    start = timer()\n",
        "    syn_model.fit(X)\n",
        "    fit_time = timer() - start\n",
        "    fit_times.append(fit_time)\n",
        "\n",
        "    random_state = i + 1\n",
        "    np.random.seed(random_state)\n",
        "\n",
        "    # Measure the execution time of the generate function\n",
        "    start = timer()\n",
        "    X_gen = syn_model.generate(count=len(df)).dataframe()\n",
        "    generate_time = timer() - start\n",
        "    generate_times.append(generate_time)\n",
        "\n",
        "    # Save X_gen as a CSV file\n",
        "    X_gen.to_csv(f\"/content/drive/MyDrive/Nips/{dataset}_{plugin_name}_nocond_iteration_{i+1}.csv\", index=False)\n",
        "\n",
        "    loader1 = SurvivalAnalysisDataLoader(df, target_column=\"event\", time_to_event_column=\"duration\")\n",
        "    loader2 = SurvivalAnalysisDataLoader(X_gen, target_column=\"event\", time_to_event_column=\"duration\")\n",
        "\n",
        "    met_df = Metrics.evaluate(X_gt=loader1, X_syn=loader2, task_type='survival_analysis', metrics={\n",
        "        'stats': ['jensenshannon_dist', 'chi_squared_test', 'feature_corr', 'inv_kl_divergence', 'ks_test',\n",
        "                 'max_mean_discrepancy', 'wasserstein_dist', 'prdc', 'alpha_precision', 'survival_km_distance'],\n",
        "        'performance': ['linear_model', 'mlp', 'xgb', 'feat_rank_distance']\n",
        "    }, use_cache=False, random_state=random_state)\n",
        "\n",
        "    met_df = met_df.iloc[:, 0]\n",
        "    metrics_list.append(met_df)\n",
        "\n",
        "    # Calculate p-values\n",
        "    p_values_continuous, p_values_discrete = compare_distributions(df, X_gen)\n",
        "    continuous_column_names = list(p_values_continuous.keys())\n",
        "    discrete_column_names = list(p_values_discrete.keys())\n",
        "\n",
        "    p_val = np.concatenate([list(p_values_continuous.values()), list(p_values_discrete.values())])\n",
        "    p_values_list.append(p_val)\n",
        "\n",
        "    workspace_dir = os.path.join(os.getcwd(), 'workspace')\n",
        "    if os.path.exists(workspace_dir):\n",
        "        shutil.rmtree(workspace_dir)\n",
        "\n",
        "result_df = pd.concat(metrics_list, axis=1)\n",
        "\n",
        "# Calculate the row-wise mean and standard deviation of the metrics\n",
        "result_df['Mean'] = result_df.mean(axis=1)\n",
        "result_df['Std'] = result_df.std(axis=1)\n",
        "result_df['Std'] = result_df['Std'].round(4)\n",
        "\n",
        "# Create DataFrame for p-values\n",
        "p_values_df = pd.DataFrame(p_values_list, columns=continuous_column_names + discrete_column_names)\n",
        "\n",
        "# Save result_df and p_values_df as CSV files\n",
        "result_df.to_csv(f\"/content/drive/MyDrive/Nips/{dataset}_{plugin_name}_nocond_result_df.csv\")\n",
        "p_values_df.to_csv(f\"/content/drive/MyDrive/Nips/{dataset}_{plugin_name}_nocond_p_values_df.csv\")\n",
        "\n",
        "avg_fit_time = np.mean(fit_times)\n",
        "avg_generate_time = np.mean(generate_times)\n",
        "std_fit_time = np.std(fit_times)\n",
        "std_generate_time = np.std(generate_times)\n",
        "\n",
        "print(f\"\\nAverage Fit Time: {avg_fit_time:.4f} seconds, Standard Deviation: {std_fit_time:.4f} seconds\")\n",
        "print(f\"Average Generate Time: {avg_generate_time:.4f} seconds, Standard Deviation: {std_generate_time:.4f} seconds\")\n"
      ]
    },
    {
      "cell_type": "code",
      "execution_count": null,
      "metadata": {
        "id": "CBW3qLE73lYP"
      },
      "outputs": [],
      "source": [
        "result_df"
      ]
    },
    {
      "cell_type": "code",
      "execution_count": null,
      "metadata": {
        "id": "i-v0i0Yu3lUw"
      },
      "outputs": [],
      "source": [
        "p_values_df"
      ]
    }
  ],
  "metadata": {
    "accelerator": "GPU",
    "colab": {
      "gpuType": "T4",
      "provenance": []
    },
    "kernelspec": {
      "display_name": "Python 3",
      "name": "python3"
    },
    "language_info": {
      "name": "python"
    }
  },
  "nbformat": 4,
  "nbformat_minor": 0
}